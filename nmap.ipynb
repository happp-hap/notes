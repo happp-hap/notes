{
 "cells": [
  {
   "cell_type": "markdown",
   "metadata": {},
   "source": [
    "# python"
   ]
  },
  {
   "cell_type": "markdown",
   "metadata": {},
   "source": [
    "## port\n",
    "http           : 80\n",
    "ftp            : 21\n",
    "ssh            : 22\n",
    "Telent         : 23\n",
    "SMTP           : 25\n",
    "Rsync          : 873\n",
    "MSSQL          : 1433\n",
    "Oracle         : 1521\n",
    "ZooKeeper      : 2181\n",
    "MySQL          : 3306\n",
    "RDP            : 3389\n",
    "Postgres       : 5432\n",
    "CouchDB        : 5984\n",
    "Redis          : 6379\n",
    "Elasticsearch  : 9200\n",
    "Memcached      : 11211\n",
    "MongoDB        : 27017\n",
    "Hadoop         : 50070\n",
    "\n",
    "*弱密码\n",
    "\n",
    "## game\n",
    "CTF、参加红蓝对抗、护网行动 "
   ]
  }
 ],
 "metadata": {
  "kernelspec": {
   "display_name": "Python 3.8.10 64-bit",
   "language": "python",
   "name": "python3"
  },
  "language_info": {
   "name": "python",
   "version": "3.8.10"
  },
  "orig_nbformat": 4,
  "vscode": {
   "interpreter": {
    "hash": "916dbcbb3f70747c44a77c7bcd40155683ae19c65e1c03b4aa3499c5328201f1"
   }
  }
 },
 "nbformat": 4,
 "nbformat_minor": 2
}
