{
 "cells": [
  {
   "cell_type": "markdown",
   "metadata": {},
   "source": [
    "# python"
   ]
  },
  {
   "cell_type": "markdown",
   "metadata": {},
   "source": [
    "## port\n",
    "    http           : 80\n",
    "    ftp            : 21\n",
    "    ssh            : 22\n",
    "    Telent         : 23\n",
    "    SMTP           : 25\n",
    "    Rsync          : 873\n",
    "    MSSQL          : 1433\n",
    "    Oracle         : 1521\n",
    "    ZooKeeper      : 2181\n",
    "    MySQL          : 3306\n",
    "    RDP            : 3389\n",
    "    Postgres       : 5432\n",
    "    CouchDB        : 5984\n",
    "    Redis          : 6379\n",
    "    Elasticsearch  : 9200\n",
    "    Memcached      : 11211\n",
    "    MongoDB        : 27017\n",
    "    Hadoop         : 50070\n",
    "\n",
    "*弱密码\n",
    "\n",
    "## game\n",
    "CTF、参加红蓝对抗、护网行动 \n",
    "\n",
    "## kalilinux\n",
    "    kali install\n",
    "    info collection\n",
    "    leak scan\n",
    "    leak use\n",
    "    network sniffer\n",
    "    passwd attack\n",
    "    wireless attack\n",
    "\n",
    "## 渗透测试必须获得授权\n",
    "aim: protect assets\n",
    "\n",
    "\n",
    "## kali installation\n",
    "### vmware workstation / virtual box\n",
    "### container \n",
    "### in VPS\n",
    "\n",
    "## domain name collect\n",
    "### top level domain name\n",
    "### Domain name discovery - more possibility\n",
    "baidu.com - news.baidu.com\n",
    "\n",
    "### DNS : domain -> ip addr \n",
    "inurl:just.edu.cn 枚举tool\n",
    "\n",
    "dns劫持/dns投毒\n",
    "\n",
    "### CDN : node \n",
    "CDN是将源站内容分发至最接近用户的节点，使用户可就近取得所需内容，提高用户访问的响应速度和成功率。解决因分布、带宽、服务器性能带来的访问延迟问题，适用于站点加速、点播、直播等场景。\n",
    "\n",
    "### programing language\n",
    "language secury/easy -> leak less/more\n",
    "    php/java/python\n",
    "\n",
    "### backgate\n",
    "\n",
    "### 抓包\n",
    "port/pc application\n",
    "\n",
    "### HTTP response code\n",
    "1xx: message received, process deal\n",
    "2xx: success\n",
    "3xx: redirection\n",
    "4xx: client error\n",
    "5xx: server error\n",
    "\n",
    "200: file exist\n",
    "403: folder exist\n",
    "3xx: all maybe exist\n",
    "404: all not exist\n",
    "500: all maybe exist\n",
    "\n",
    "\n"
   ]
  }
 ],
 "metadata": {
  "kernelspec": {
   "display_name": "Python 3.8.10 64-bit",
   "language": "python",
   "name": "python3"
  },
  "language_info": {
   "name": "python",
   "version": "3.8.10"
  },
  "orig_nbformat": 4,
  "vscode": {
   "interpreter": {
    "hash": "916dbcbb3f70747c44a77c7bcd40155683ae19c65e1c03b4aa3499c5328201f1"
   }
  }
 },
 "nbformat": 4,
 "nbformat_minor": 2
}
