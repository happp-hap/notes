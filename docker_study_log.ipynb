{
 "cells": [
  {
   "cell_type": "markdown",
   "metadata": {},
   "source": [
    "# write a Dockerfile:\n",
    "FROM node:12-alpine\n",
    "# Adding build tools to make yarn install work on Apple silicon / arm64 machines\n",
    "RUN apk add --no-cache python2 g++ make\n",
    "WORKDIR /app\n",
    "COPY . .\n",
    "RUN yarn install --production\n",
    "CMD [\"node\", \"src/index.js\"]"
   ]
  },
  {
   "cell_type": "code",
   "execution_count": null,
   "metadata": {
    "vscode": {
     "languageId": "shellscript"
    }
   },
   "outputs": [],
   "source": [
    "docker build -t getting-started .\n",
    "docker run -dp 3000:3000 getting-started"
   ]
  },
  {
   "cell_type": "code",
   "execution_count": null,
   "metadata": {
    "vscode": {
     "languageId": "shellscript"
    }
   },
   "outputs": [],
   "source": [
    "## pass file via docker volume\n",
    "docker volume create todo-db\n",
    "docker run -dp 3000:3000 -v todo-db:/etc/todos getting-started\n",
    "\n",
    "## bind mounts is often used to provide additional data into containers. \n",
    "# Note: Docker requires absolute paths \n",
    "docker run -dp 3000:3000 \\\n",
    "    -w /app -v \"$(pwd):/app\" \\\n",
    "    node:12-alpine \\\n",
    "    sh -c \"yarn install && yarn run dev\""
   ]
  }
 ],
 "metadata": {
  "kernelspec": {
   "display_name": "Python 3.8.10 64-bit",
   "language": "python",
   "name": "python3"
  },
  "language_info": {
   "name": "python",
   "version": "3.8.10"
  },
  "orig_nbformat": 4,
  "vscode": {
   "interpreter": {
    "hash": "916dbcbb3f70747c44a77c7bcd40155683ae19c65e1c03b4aa3499c5328201f1"
   }
  }
 },
 "nbformat": 4,
 "nbformat_minor": 2
}
